{
  "nbformat": 4,
  "nbformat_minor": 0,
  "metadata": {
    "colab": {
      "provenance": [],
      "authorship_tag": "ABX9TyMWc0WkA6IOS1n7oVR0tX0V",
      "include_colab_link": true
    },
    "kernelspec": {
      "name": "python3",
      "display_name": "Python 3"
    },
    "language_info": {
      "name": "python"
    }
  },
  "cells": [
    {
      "cell_type": "markdown",
      "metadata": {
        "id": "view-in-github",
        "colab_type": "text"
      },
      "source": [
        "<a href=\"https://colab.research.google.com/github/bielgmdss/santander-dev-week-2023-api/blob/main/Transformando_dados.ipynb\" target=\"_parent\"><img src=\"https://colab.research.google.com/assets/colab-badge.svg\" alt=\"Open In Colab\"/></a>"
      ]
    },
    {
      "cell_type": "markdown",
      "source": [
        "# **Extraindo os dados**"
      ],
      "metadata": {
        "id": "xfENwk_ikK82"
      }
    },
    {
      "cell_type": "code",
      "execution_count": 2,
      "metadata": {
        "id": "Z3IpZe1PWKfe"
      },
      "outputs": [],
      "source": [
        "import pandas as pd # ('as') - renomear"
      ]
    },
    {
      "cell_type": "code",
      "source": [
        "df = pd.read_excel('/content/dados.xlsx') # Buscando o arquivo\n",
        "\n",
        "df.head() # Exibindo o arquivo em tabelas - graficos"
      ],
      "metadata": {
        "colab": {
          "base_uri": "https://localhost:8080/",
          "height": 206
        },
        "id": "Ov8SgMRikAl4",
        "outputId": "0d3eb910-61e6-4dfe-9682-42e7b60776fb"
      },
      "execution_count": 21,
      "outputs": [
        {
          "output_type": "execute_result",
          "data": {
            "text/plain": [
              "             Nome    Tipo Pessoa       Município  Valor da Movimentação  \\\n",
              "0  Caramuru Pie I  Pessoa Física       São Paulo                 675.87   \n",
              "1   Libra Energia  Pessoa Física         Vitória                5882.06   \n",
              "2   Libra Energia  Pessoa Física  Belo Horizonte                6583.79   \n",
              "3          Indaia  Pessoa Física  Rio De Janeiro               12261.57   \n",
              "4   Tempo Energia  Pessoa Física       São Paulo               -1584.35   \n",
              "\n",
              "          Tipo  \n",
              "0  Recebimento  \n",
              "1  Recebimento  \n",
              "2  Recebimento  \n",
              "3  Recebimento  \n",
              "4    Pagamento  "
            ],
            "text/html": [
              "\n",
              "  <div id=\"df-483d3426-13ba-4e3e-979f-78fea4a17d7b\" class=\"colab-df-container\">\n",
              "    <div>\n",
              "<style scoped>\n",
              "    .dataframe tbody tr th:only-of-type {\n",
              "        vertical-align: middle;\n",
              "    }\n",
              "\n",
              "    .dataframe tbody tr th {\n",
              "        vertical-align: top;\n",
              "    }\n",
              "\n",
              "    .dataframe thead th {\n",
              "        text-align: right;\n",
              "    }\n",
              "</style>\n",
              "<table border=\"1\" class=\"dataframe\">\n",
              "  <thead>\n",
              "    <tr style=\"text-align: right;\">\n",
              "      <th></th>\n",
              "      <th>Nome</th>\n",
              "      <th>Tipo Pessoa</th>\n",
              "      <th>Município</th>\n",
              "      <th>Valor da Movimentação</th>\n",
              "      <th>Tipo</th>\n",
              "    </tr>\n",
              "  </thead>\n",
              "  <tbody>\n",
              "    <tr>\n",
              "      <th>0</th>\n",
              "      <td>Caramuru Pie I</td>\n",
              "      <td>Pessoa Física</td>\n",
              "      <td>São Paulo</td>\n",
              "      <td>675.87</td>\n",
              "      <td>Recebimento</td>\n",
              "    </tr>\n",
              "    <tr>\n",
              "      <th>1</th>\n",
              "      <td>Libra Energia</td>\n",
              "      <td>Pessoa Física</td>\n",
              "      <td>Vitória</td>\n",
              "      <td>5882.06</td>\n",
              "      <td>Recebimento</td>\n",
              "    </tr>\n",
              "    <tr>\n",
              "      <th>2</th>\n",
              "      <td>Libra Energia</td>\n",
              "      <td>Pessoa Física</td>\n",
              "      <td>Belo Horizonte</td>\n",
              "      <td>6583.79</td>\n",
              "      <td>Recebimento</td>\n",
              "    </tr>\n",
              "    <tr>\n",
              "      <th>3</th>\n",
              "      <td>Indaia</td>\n",
              "      <td>Pessoa Física</td>\n",
              "      <td>Rio De Janeiro</td>\n",
              "      <td>12261.57</td>\n",
              "      <td>Recebimento</td>\n",
              "    </tr>\n",
              "    <tr>\n",
              "      <th>4</th>\n",
              "      <td>Tempo Energia</td>\n",
              "      <td>Pessoa Física</td>\n",
              "      <td>São Paulo</td>\n",
              "      <td>-1584.35</td>\n",
              "      <td>Pagamento</td>\n",
              "    </tr>\n",
              "  </tbody>\n",
              "</table>\n",
              "</div>\n",
              "    <div class=\"colab-df-buttons\">\n",
              "\n",
              "  <div class=\"colab-df-container\">\n",
              "    <button class=\"colab-df-convert\" onclick=\"convertToInteractive('df-483d3426-13ba-4e3e-979f-78fea4a17d7b')\"\n",
              "            title=\"Convert this dataframe to an interactive table.\"\n",
              "            style=\"display:none;\">\n",
              "\n",
              "  <svg xmlns=\"http://www.w3.org/2000/svg\" height=\"24px\" viewBox=\"0 -960 960 960\">\n",
              "    <path d=\"M120-120v-720h720v720H120Zm60-500h600v-160H180v160Zm220 220h160v-160H400v160Zm0 220h160v-160H400v160ZM180-400h160v-160H180v160Zm440 0h160v-160H620v160ZM180-180h160v-160H180v160Zm440 0h160v-160H620v160Z\"/>\n",
              "  </svg>\n",
              "    </button>\n",
              "\n",
              "  <style>\n",
              "    .colab-df-container {\n",
              "      display:flex;\n",
              "      gap: 12px;\n",
              "    }\n",
              "\n",
              "    .colab-df-convert {\n",
              "      background-color: #E8F0FE;\n",
              "      border: none;\n",
              "      border-radius: 50%;\n",
              "      cursor: pointer;\n",
              "      display: none;\n",
              "      fill: #1967D2;\n",
              "      height: 32px;\n",
              "      padding: 0 0 0 0;\n",
              "      width: 32px;\n",
              "    }\n",
              "\n",
              "    .colab-df-convert:hover {\n",
              "      background-color: #E2EBFA;\n",
              "      box-shadow: 0px 1px 2px rgba(60, 64, 67, 0.3), 0px 1px 3px 1px rgba(60, 64, 67, 0.15);\n",
              "      fill: #174EA6;\n",
              "    }\n",
              "\n",
              "    .colab-df-buttons div {\n",
              "      margin-bottom: 4px;\n",
              "    }\n",
              "\n",
              "    [theme=dark] .colab-df-convert {\n",
              "      background-color: #3B4455;\n",
              "      fill: #D2E3FC;\n",
              "    }\n",
              "\n",
              "    [theme=dark] .colab-df-convert:hover {\n",
              "      background-color: #434B5C;\n",
              "      box-shadow: 0px 1px 3px 1px rgba(0, 0, 0, 0.15);\n",
              "      filter: drop-shadow(0px 1px 2px rgba(0, 0, 0, 0.3));\n",
              "      fill: #FFFFFF;\n",
              "    }\n",
              "  </style>\n",
              "\n",
              "    <script>\n",
              "      const buttonEl =\n",
              "        document.querySelector('#df-483d3426-13ba-4e3e-979f-78fea4a17d7b button.colab-df-convert');\n",
              "      buttonEl.style.display =\n",
              "        google.colab.kernel.accessAllowed ? 'block' : 'none';\n",
              "\n",
              "      async function convertToInteractive(key) {\n",
              "        const element = document.querySelector('#df-483d3426-13ba-4e3e-979f-78fea4a17d7b');\n",
              "        const dataTable =\n",
              "          await google.colab.kernel.invokeFunction('convertToInteractive',\n",
              "                                                    [key], {});\n",
              "        if (!dataTable) return;\n",
              "\n",
              "        const docLinkHtml = 'Like what you see? Visit the ' +\n",
              "          '<a target=\"_blank\" href=https://colab.research.google.com/notebooks/data_table.ipynb>data table notebook</a>'\n",
              "          + ' to learn more about interactive tables.';\n",
              "        element.innerHTML = '';\n",
              "        dataTable['output_type'] = 'display_data';\n",
              "        await google.colab.output.renderOutput(dataTable, element);\n",
              "        const docLink = document.createElement('div');\n",
              "        docLink.innerHTML = docLinkHtml;\n",
              "        element.appendChild(docLink);\n",
              "      }\n",
              "    </script>\n",
              "  </div>\n",
              "\n",
              "\n",
              "<div id=\"df-8d719594-6ebd-4be9-8470-b81ea44c194f\">\n",
              "  <button class=\"colab-df-quickchart\" onclick=\"quickchart('df-8d719594-6ebd-4be9-8470-b81ea44c194f')\"\n",
              "            title=\"Suggest charts.\"\n",
              "            style=\"display:none;\">\n",
              "\n",
              "<svg xmlns=\"http://www.w3.org/2000/svg\" height=\"24px\"viewBox=\"0 0 24 24\"\n",
              "     width=\"24px\">\n",
              "    <g>\n",
              "        <path d=\"M19 3H5c-1.1 0-2 .9-2 2v14c0 1.1.9 2 2 2h14c1.1 0 2-.9 2-2V5c0-1.1-.9-2-2-2zM9 17H7v-7h2v7zm4 0h-2V7h2v10zm4 0h-2v-4h2v4z\"/>\n",
              "    </g>\n",
              "</svg>\n",
              "  </button>\n",
              "\n",
              "<style>\n",
              "  .colab-df-quickchart {\n",
              "      --bg-color: #E8F0FE;\n",
              "      --fill-color: #1967D2;\n",
              "      --hover-bg-color: #E2EBFA;\n",
              "      --hover-fill-color: #174EA6;\n",
              "      --disabled-fill-color: #AAA;\n",
              "      --disabled-bg-color: #DDD;\n",
              "  }\n",
              "\n",
              "  [theme=dark] .colab-df-quickchart {\n",
              "      --bg-color: #3B4455;\n",
              "      --fill-color: #D2E3FC;\n",
              "      --hover-bg-color: #434B5C;\n",
              "      --hover-fill-color: #FFFFFF;\n",
              "      --disabled-bg-color: #3B4455;\n",
              "      --disabled-fill-color: #666;\n",
              "  }\n",
              "\n",
              "  .colab-df-quickchart {\n",
              "    background-color: var(--bg-color);\n",
              "    border: none;\n",
              "    border-radius: 50%;\n",
              "    cursor: pointer;\n",
              "    display: none;\n",
              "    fill: var(--fill-color);\n",
              "    height: 32px;\n",
              "    padding: 0;\n",
              "    width: 32px;\n",
              "  }\n",
              "\n",
              "  .colab-df-quickchart:hover {\n",
              "    background-color: var(--hover-bg-color);\n",
              "    box-shadow: 0 1px 2px rgba(60, 64, 67, 0.3), 0 1px 3px 1px rgba(60, 64, 67, 0.15);\n",
              "    fill: var(--button-hover-fill-color);\n",
              "  }\n",
              "\n",
              "  .colab-df-quickchart-complete:disabled,\n",
              "  .colab-df-quickchart-complete:disabled:hover {\n",
              "    background-color: var(--disabled-bg-color);\n",
              "    fill: var(--disabled-fill-color);\n",
              "    box-shadow: none;\n",
              "  }\n",
              "\n",
              "  .colab-df-spinner {\n",
              "    border: 2px solid var(--fill-color);\n",
              "    border-color: transparent;\n",
              "    border-bottom-color: var(--fill-color);\n",
              "    animation:\n",
              "      spin 1s steps(1) infinite;\n",
              "  }\n",
              "\n",
              "  @keyframes spin {\n",
              "    0% {\n",
              "      border-color: transparent;\n",
              "      border-bottom-color: var(--fill-color);\n",
              "      border-left-color: var(--fill-color);\n",
              "    }\n",
              "    20% {\n",
              "      border-color: transparent;\n",
              "      border-left-color: var(--fill-color);\n",
              "      border-top-color: var(--fill-color);\n",
              "    }\n",
              "    30% {\n",
              "      border-color: transparent;\n",
              "      border-left-color: var(--fill-color);\n",
              "      border-top-color: var(--fill-color);\n",
              "      border-right-color: var(--fill-color);\n",
              "    }\n",
              "    40% {\n",
              "      border-color: transparent;\n",
              "      border-right-color: var(--fill-color);\n",
              "      border-top-color: var(--fill-color);\n",
              "    }\n",
              "    60% {\n",
              "      border-color: transparent;\n",
              "      border-right-color: var(--fill-color);\n",
              "    }\n",
              "    80% {\n",
              "      border-color: transparent;\n",
              "      border-right-color: var(--fill-color);\n",
              "      border-bottom-color: var(--fill-color);\n",
              "    }\n",
              "    90% {\n",
              "      border-color: transparent;\n",
              "      border-bottom-color: var(--fill-color);\n",
              "    }\n",
              "  }\n",
              "</style>\n",
              "\n",
              "  <script>\n",
              "    async function quickchart(key) {\n",
              "      const quickchartButtonEl =\n",
              "        document.querySelector('#' + key + ' button');\n",
              "      quickchartButtonEl.disabled = true;  // To prevent multiple clicks.\n",
              "      quickchartButtonEl.classList.add('colab-df-spinner');\n",
              "      try {\n",
              "        const charts = await google.colab.kernel.invokeFunction(\n",
              "            'suggestCharts', [key], {});\n",
              "      } catch (error) {\n",
              "        console.error('Error during call to suggestCharts:', error);\n",
              "      }\n",
              "      quickchartButtonEl.classList.remove('colab-df-spinner');\n",
              "      quickchartButtonEl.classList.add('colab-df-quickchart-complete');\n",
              "    }\n",
              "    (() => {\n",
              "      let quickchartButtonEl =\n",
              "        document.querySelector('#df-8d719594-6ebd-4be9-8470-b81ea44c194f button');\n",
              "      quickchartButtonEl.style.display =\n",
              "        google.colab.kernel.accessAllowed ? 'block' : 'none';\n",
              "    })();\n",
              "  </script>\n",
              "</div>\n",
              "    </div>\n",
              "  </div>\n"
            ]
          },
          "metadata": {},
          "execution_count": 21
        }
      ]
    },
    {
      "cell_type": "code",
      "source": [
        "print(df) # Verificar a quantidade de linhas totais e colunas - [2725 rows x 5 columns]"
      ],
      "metadata": {
        "colab": {
          "base_uri": "https://localhost:8080/"
        },
        "id": "bPpmb1I1qJEf",
        "outputId": "d71671e0-60bc-4b8d-fde9-ea562b4c9034"
      },
      "execution_count": 22,
      "outputs": [
        {
          "output_type": "stream",
          "name": "stdout",
          "text": [
            "                         Nome    Tipo Pessoa       Município  \\\n",
            "0              Caramuru Pie I  Pessoa Física       São Paulo   \n",
            "1               Libra Energia  Pessoa Física         Vitória   \n",
            "2               Libra Energia  Pessoa Física  Belo Horizonte   \n",
            "3                      Indaia  Pessoa Física  Rio De Janeiro   \n",
            "4               Tempo Energia  Pessoa Física       São Paulo   \n",
            "...                       ...            ...             ...   \n",
            "2720  Ind Plasticas Conquista  Pessoa Física       São Paulo   \n",
            "2721      Pch Barra Das Aguas  Pessoa Física         Vitória   \n",
            "2722                    Renar  Pessoa Física  Belo Horizonte   \n",
            "2723                Viavarejo  Pessoa Física  Rio De Janeiro   \n",
            "2724                  Renault  Pessoa Física       São Paulo   \n",
            "\n",
            "      Valor da Movimentação         Tipo  \n",
            "0                    675.87  Recebimento  \n",
            "1                   5882.06  Recebimento  \n",
            "2                   6583.79  Recebimento  \n",
            "3                  12261.57  Recebimento  \n",
            "4                  -1584.35    Pagamento  \n",
            "...                     ...          ...  \n",
            "2720               -2219.56    Pagamento  \n",
            "2721              -10599.30    Pagamento  \n",
            "2722                -151.73    Pagamento  \n",
            "2723              102786.45  Recebimento  \n",
            "2724               -1544.48    Pagamento  \n",
            "\n",
            "[2725 rows x 5 columns]\n"
          ]
        }
      ]
    },
    {
      "cell_type": "code",
      "source": [
        "Verificar_se_tem_linhas_duplicadas_1 = df.duplicated().sum()\n",
        "print(Verificar_se_tem_linhas_duplicadas_1)\n",
        "\n",
        "quantidade_de_linhas = df.shape\n",
        "print(quantidade_de_linhas)"
      ],
      "metadata": {
        "colab": {
          "base_uri": "https://localhost:8080/"
        },
        "id": "0jTjS0YMxlZr",
        "outputId": "e833aa8e-ab49-44f1-be74-8447e3a70154"
      },
      "execution_count": 23,
      "outputs": [
        {
          "output_type": "stream",
          "name": "stdout",
          "text": [
            "32\n",
            "(2725, 5)\n"
          ]
        }
      ]
    },
    {
      "cell_type": "markdown",
      "source": [
        "# **Transformando os dados**"
      ],
      "metadata": {
        "id": "QiGAisllk0-H"
      }
    },
    {
      "cell_type": "code",
      "source": [
        "df.duplicated() # Veridicando se tem linhas duplicadas"
      ],
      "metadata": {
        "colab": {
          "base_uri": "https://localhost:8080/"
        },
        "id": "KdU7GfZEvTMk",
        "outputId": "9e160a09-208c-4565-b5e6-50b081b18e85"
      },
      "execution_count": 24,
      "outputs": [
        {
          "output_type": "execute_result",
          "data": {
            "text/plain": [
              "0       False\n",
              "1       False\n",
              "2       False\n",
              "3       False\n",
              "4       False\n",
              "        ...  \n",
              "2720    False\n",
              "2721    False\n",
              "2722    False\n",
              "2723    False\n",
              "2724    False\n",
              "Length: 2725, dtype: bool"
            ]
          },
          "metadata": {},
          "execution_count": 24
        }
      ]
    },
    {
      "cell_type": "code",
      "source": [
        "linhas_iguais = df.duplicated()\n",
        "linhas_duplicadas = df[linhas_iguais]"
      ],
      "metadata": {
        "id": "zxkXD8mRt-i1"
      },
      "execution_count": 25,
      "outputs": []
    },
    {
      "cell_type": "code",
      "source": [
        "df = df.drop_duplicates() # Excluindo as duplicadas\n",
        "Verificar_se_tem_linhas_duplicadas_0 = df.duplicated().sum()\n",
        "print(Verificar_se_tem_linhas_duplicadas_0)"
      ],
      "metadata": {
        "colab": {
          "base_uri": "https://localhost:8080/"
        },
        "id": "gFNCi5uvuMdU",
        "outputId": "e97f2200-cf00-4005-e805-169e7f7cd367"
      },
      "execution_count": 26,
      "outputs": [
        {
          "output_type": "stream",
          "name": "stdout",
          "text": [
            "0\n"
          ]
        }
      ]
    },
    {
      "cell_type": "code",
      "source": [
        "quantidade_de_linhas0 = df.shape # Verificar a quantidade de linhas totais e colunas\n",
        "print(quantidade_de_linhas0)"
      ],
      "metadata": {
        "colab": {
          "base_uri": "https://localhost:8080/"
        },
        "id": "odKD-ksZwEnE",
        "outputId": "9a9371a3-0f6f-439d-e95a-10d127ff8b2d"
      },
      "execution_count": 27,
      "outputs": [
        {
          "output_type": "stream",
          "name": "stdout",
          "text": [
            "(2693, 5)\n"
          ]
        }
      ]
    },
    {
      "cell_type": "code",
      "source": [
        "def formatar(valor):  #Formatando os dados : Tirando os numeros depois da virgual e colocando o R$\n",
        "  return \"R$ {:.0f}\".format(valor)\n",
        "\n",
        "df['Valor Movimentado']  = df['Valor da Movimentação'].apply(formatar)\n",
        "print(df['Valor Movimentado'])"
      ],
      "metadata": {
        "colab": {
          "base_uri": "https://localhost:8080/"
        },
        "id": "JkbaBIFgyaqS",
        "outputId": "e8fa4a31-db0a-43c3-eed4-206a27809aee"
      },
      "execution_count": 28,
      "outputs": [
        {
          "output_type": "stream",
          "name": "stdout",
          "text": [
            "0          R$ 676\n",
            "1         R$ 5882\n",
            "2         R$ 6584\n",
            "3        R$ 12262\n",
            "4        R$ -1584\n",
            "          ...    \n",
            "2720     R$ -2220\n",
            "2721    R$ -10599\n",
            "2722      R$ -152\n",
            "2723    R$ 102786\n",
            "2724     R$ -1544\n",
            "Name: Valor Movimentado, Length: 2693, dtype: object\n"
          ]
        }
      ]
    },
    {
      "cell_type": "code",
      "source": [
        "df.head() # Exibindo novos valores"
      ],
      "metadata": {
        "colab": {
          "base_uri": "https://localhost:8080/",
          "height": 206
        },
        "id": "Ehy-CGLc4lYJ",
        "outputId": "1c70f8d1-29e0-4f3c-fe0a-77d773ff1e01"
      },
      "execution_count": 29,
      "outputs": [
        {
          "output_type": "execute_result",
          "data": {
            "text/plain": [
              "             Nome    Tipo Pessoa       Município  Valor da Movimentação  \\\n",
              "0  Caramuru Pie I  Pessoa Física       São Paulo                 675.87   \n",
              "1   Libra Energia  Pessoa Física         Vitória                5882.06   \n",
              "2   Libra Energia  Pessoa Física  Belo Horizonte                6583.79   \n",
              "3          Indaia  Pessoa Física  Rio De Janeiro               12261.57   \n",
              "4   Tempo Energia  Pessoa Física       São Paulo               -1584.35   \n",
              "\n",
              "          Tipo Valor Movimentado  \n",
              "0  Recebimento            R$ 676  \n",
              "1  Recebimento           R$ 5882  \n",
              "2  Recebimento           R$ 6584  \n",
              "3  Recebimento          R$ 12262  \n",
              "4    Pagamento          R$ -1584  "
            ],
            "text/html": [
              "\n",
              "  <div id=\"df-08924270-9f36-4599-bc9d-15089144ce4a\" class=\"colab-df-container\">\n",
              "    <div>\n",
              "<style scoped>\n",
              "    .dataframe tbody tr th:only-of-type {\n",
              "        vertical-align: middle;\n",
              "    }\n",
              "\n",
              "    .dataframe tbody tr th {\n",
              "        vertical-align: top;\n",
              "    }\n",
              "\n",
              "    .dataframe thead th {\n",
              "        text-align: right;\n",
              "    }\n",
              "</style>\n",
              "<table border=\"1\" class=\"dataframe\">\n",
              "  <thead>\n",
              "    <tr style=\"text-align: right;\">\n",
              "      <th></th>\n",
              "      <th>Nome</th>\n",
              "      <th>Tipo Pessoa</th>\n",
              "      <th>Município</th>\n",
              "      <th>Valor da Movimentação</th>\n",
              "      <th>Tipo</th>\n",
              "      <th>Valor Movimentado</th>\n",
              "    </tr>\n",
              "  </thead>\n",
              "  <tbody>\n",
              "    <tr>\n",
              "      <th>0</th>\n",
              "      <td>Caramuru Pie I</td>\n",
              "      <td>Pessoa Física</td>\n",
              "      <td>São Paulo</td>\n",
              "      <td>675.87</td>\n",
              "      <td>Recebimento</td>\n",
              "      <td>R$ 676</td>\n",
              "    </tr>\n",
              "    <tr>\n",
              "      <th>1</th>\n",
              "      <td>Libra Energia</td>\n",
              "      <td>Pessoa Física</td>\n",
              "      <td>Vitória</td>\n",
              "      <td>5882.06</td>\n",
              "      <td>Recebimento</td>\n",
              "      <td>R$ 5882</td>\n",
              "    </tr>\n",
              "    <tr>\n",
              "      <th>2</th>\n",
              "      <td>Libra Energia</td>\n",
              "      <td>Pessoa Física</td>\n",
              "      <td>Belo Horizonte</td>\n",
              "      <td>6583.79</td>\n",
              "      <td>Recebimento</td>\n",
              "      <td>R$ 6584</td>\n",
              "    </tr>\n",
              "    <tr>\n",
              "      <th>3</th>\n",
              "      <td>Indaia</td>\n",
              "      <td>Pessoa Física</td>\n",
              "      <td>Rio De Janeiro</td>\n",
              "      <td>12261.57</td>\n",
              "      <td>Recebimento</td>\n",
              "      <td>R$ 12262</td>\n",
              "    </tr>\n",
              "    <tr>\n",
              "      <th>4</th>\n",
              "      <td>Tempo Energia</td>\n",
              "      <td>Pessoa Física</td>\n",
              "      <td>São Paulo</td>\n",
              "      <td>-1584.35</td>\n",
              "      <td>Pagamento</td>\n",
              "      <td>R$ -1584</td>\n",
              "    </tr>\n",
              "  </tbody>\n",
              "</table>\n",
              "</div>\n",
              "    <div class=\"colab-df-buttons\">\n",
              "\n",
              "  <div class=\"colab-df-container\">\n",
              "    <button class=\"colab-df-convert\" onclick=\"convertToInteractive('df-08924270-9f36-4599-bc9d-15089144ce4a')\"\n",
              "            title=\"Convert this dataframe to an interactive table.\"\n",
              "            style=\"display:none;\">\n",
              "\n",
              "  <svg xmlns=\"http://www.w3.org/2000/svg\" height=\"24px\" viewBox=\"0 -960 960 960\">\n",
              "    <path d=\"M120-120v-720h720v720H120Zm60-500h600v-160H180v160Zm220 220h160v-160H400v160Zm0 220h160v-160H400v160ZM180-400h160v-160H180v160Zm440 0h160v-160H620v160ZM180-180h160v-160H180v160Zm440 0h160v-160H620v160Z\"/>\n",
              "  </svg>\n",
              "    </button>\n",
              "\n",
              "  <style>\n",
              "    .colab-df-container {\n",
              "      display:flex;\n",
              "      gap: 12px;\n",
              "    }\n",
              "\n",
              "    .colab-df-convert {\n",
              "      background-color: #E8F0FE;\n",
              "      border: none;\n",
              "      border-radius: 50%;\n",
              "      cursor: pointer;\n",
              "      display: none;\n",
              "      fill: #1967D2;\n",
              "      height: 32px;\n",
              "      padding: 0 0 0 0;\n",
              "      width: 32px;\n",
              "    }\n",
              "\n",
              "    .colab-df-convert:hover {\n",
              "      background-color: #E2EBFA;\n",
              "      box-shadow: 0px 1px 2px rgba(60, 64, 67, 0.3), 0px 1px 3px 1px rgba(60, 64, 67, 0.15);\n",
              "      fill: #174EA6;\n",
              "    }\n",
              "\n",
              "    .colab-df-buttons div {\n",
              "      margin-bottom: 4px;\n",
              "    }\n",
              "\n",
              "    [theme=dark] .colab-df-convert {\n",
              "      background-color: #3B4455;\n",
              "      fill: #D2E3FC;\n",
              "    }\n",
              "\n",
              "    [theme=dark] .colab-df-convert:hover {\n",
              "      background-color: #434B5C;\n",
              "      box-shadow: 0px 1px 3px 1px rgba(0, 0, 0, 0.15);\n",
              "      filter: drop-shadow(0px 1px 2px rgba(0, 0, 0, 0.3));\n",
              "      fill: #FFFFFF;\n",
              "    }\n",
              "  </style>\n",
              "\n",
              "    <script>\n",
              "      const buttonEl =\n",
              "        document.querySelector('#df-08924270-9f36-4599-bc9d-15089144ce4a button.colab-df-convert');\n",
              "      buttonEl.style.display =\n",
              "        google.colab.kernel.accessAllowed ? 'block' : 'none';\n",
              "\n",
              "      async function convertToInteractive(key) {\n",
              "        const element = document.querySelector('#df-08924270-9f36-4599-bc9d-15089144ce4a');\n",
              "        const dataTable =\n",
              "          await google.colab.kernel.invokeFunction('convertToInteractive',\n",
              "                                                    [key], {});\n",
              "        if (!dataTable) return;\n",
              "\n",
              "        const docLinkHtml = 'Like what you see? Visit the ' +\n",
              "          '<a target=\"_blank\" href=https://colab.research.google.com/notebooks/data_table.ipynb>data table notebook</a>'\n",
              "          + ' to learn more about interactive tables.';\n",
              "        element.innerHTML = '';\n",
              "        dataTable['output_type'] = 'display_data';\n",
              "        await google.colab.output.renderOutput(dataTable, element);\n",
              "        const docLink = document.createElement('div');\n",
              "        docLink.innerHTML = docLinkHtml;\n",
              "        element.appendChild(docLink);\n",
              "      }\n",
              "    </script>\n",
              "  </div>\n",
              "\n",
              "\n",
              "<div id=\"df-cc25b1b2-3e01-49eb-a4bd-16ed3898d661\">\n",
              "  <button class=\"colab-df-quickchart\" onclick=\"quickchart('df-cc25b1b2-3e01-49eb-a4bd-16ed3898d661')\"\n",
              "            title=\"Suggest charts.\"\n",
              "            style=\"display:none;\">\n",
              "\n",
              "<svg xmlns=\"http://www.w3.org/2000/svg\" height=\"24px\"viewBox=\"0 0 24 24\"\n",
              "     width=\"24px\">\n",
              "    <g>\n",
              "        <path d=\"M19 3H5c-1.1 0-2 .9-2 2v14c0 1.1.9 2 2 2h14c1.1 0 2-.9 2-2V5c0-1.1-.9-2-2-2zM9 17H7v-7h2v7zm4 0h-2V7h2v10zm4 0h-2v-4h2v4z\"/>\n",
              "    </g>\n",
              "</svg>\n",
              "  </button>\n",
              "\n",
              "<style>\n",
              "  .colab-df-quickchart {\n",
              "      --bg-color: #E8F0FE;\n",
              "      --fill-color: #1967D2;\n",
              "      --hover-bg-color: #E2EBFA;\n",
              "      --hover-fill-color: #174EA6;\n",
              "      --disabled-fill-color: #AAA;\n",
              "      --disabled-bg-color: #DDD;\n",
              "  }\n",
              "\n",
              "  [theme=dark] .colab-df-quickchart {\n",
              "      --bg-color: #3B4455;\n",
              "      --fill-color: #D2E3FC;\n",
              "      --hover-bg-color: #434B5C;\n",
              "      --hover-fill-color: #FFFFFF;\n",
              "      --disabled-bg-color: #3B4455;\n",
              "      --disabled-fill-color: #666;\n",
              "  }\n",
              "\n",
              "  .colab-df-quickchart {\n",
              "    background-color: var(--bg-color);\n",
              "    border: none;\n",
              "    border-radius: 50%;\n",
              "    cursor: pointer;\n",
              "    display: none;\n",
              "    fill: var(--fill-color);\n",
              "    height: 32px;\n",
              "    padding: 0;\n",
              "    width: 32px;\n",
              "  }\n",
              "\n",
              "  .colab-df-quickchart:hover {\n",
              "    background-color: var(--hover-bg-color);\n",
              "    box-shadow: 0 1px 2px rgba(60, 64, 67, 0.3), 0 1px 3px 1px rgba(60, 64, 67, 0.15);\n",
              "    fill: var(--button-hover-fill-color);\n",
              "  }\n",
              "\n",
              "  .colab-df-quickchart-complete:disabled,\n",
              "  .colab-df-quickchart-complete:disabled:hover {\n",
              "    background-color: var(--disabled-bg-color);\n",
              "    fill: var(--disabled-fill-color);\n",
              "    box-shadow: none;\n",
              "  }\n",
              "\n",
              "  .colab-df-spinner {\n",
              "    border: 2px solid var(--fill-color);\n",
              "    border-color: transparent;\n",
              "    border-bottom-color: var(--fill-color);\n",
              "    animation:\n",
              "      spin 1s steps(1) infinite;\n",
              "  }\n",
              "\n",
              "  @keyframes spin {\n",
              "    0% {\n",
              "      border-color: transparent;\n",
              "      border-bottom-color: var(--fill-color);\n",
              "      border-left-color: var(--fill-color);\n",
              "    }\n",
              "    20% {\n",
              "      border-color: transparent;\n",
              "      border-left-color: var(--fill-color);\n",
              "      border-top-color: var(--fill-color);\n",
              "    }\n",
              "    30% {\n",
              "      border-color: transparent;\n",
              "      border-left-color: var(--fill-color);\n",
              "      border-top-color: var(--fill-color);\n",
              "      border-right-color: var(--fill-color);\n",
              "    }\n",
              "    40% {\n",
              "      border-color: transparent;\n",
              "      border-right-color: var(--fill-color);\n",
              "      border-top-color: var(--fill-color);\n",
              "    }\n",
              "    60% {\n",
              "      border-color: transparent;\n",
              "      border-right-color: var(--fill-color);\n",
              "    }\n",
              "    80% {\n",
              "      border-color: transparent;\n",
              "      border-right-color: var(--fill-color);\n",
              "      border-bottom-color: var(--fill-color);\n",
              "    }\n",
              "    90% {\n",
              "      border-color: transparent;\n",
              "      border-bottom-color: var(--fill-color);\n",
              "    }\n",
              "  }\n",
              "</style>\n",
              "\n",
              "  <script>\n",
              "    async function quickchart(key) {\n",
              "      const quickchartButtonEl =\n",
              "        document.querySelector('#' + key + ' button');\n",
              "      quickchartButtonEl.disabled = true;  // To prevent multiple clicks.\n",
              "      quickchartButtonEl.classList.add('colab-df-spinner');\n",
              "      try {\n",
              "        const charts = await google.colab.kernel.invokeFunction(\n",
              "            'suggestCharts', [key], {});\n",
              "      } catch (error) {\n",
              "        console.error('Error during call to suggestCharts:', error);\n",
              "      }\n",
              "      quickchartButtonEl.classList.remove('colab-df-spinner');\n",
              "      quickchartButtonEl.classList.add('colab-df-quickchart-complete');\n",
              "    }\n",
              "    (() => {\n",
              "      let quickchartButtonEl =\n",
              "        document.querySelector('#df-cc25b1b2-3e01-49eb-a4bd-16ed3898d661 button');\n",
              "      quickchartButtonEl.style.display =\n",
              "        google.colab.kernel.accessAllowed ? 'block' : 'none';\n",
              "    })();\n",
              "  </script>\n",
              "</div>\n",
              "    </div>\n",
              "  </div>\n"
            ]
          },
          "metadata": {},
          "execution_count": 29
        }
      ]
    },
    {
      "cell_type": "code",
      "source": [
        "limpeza = df.drop(labels=\"Valor da Movimentação\", axis=1) #Excluindo a coluna\n",
        "print(limpeza)"
      ],
      "metadata": {
        "colab": {
          "base_uri": "https://localhost:8080/"
        },
        "id": "EKIVUCUW7mPh",
        "outputId": "58553ace-7594-4d33-b584-5defa88071de"
      },
      "execution_count": 30,
      "outputs": [
        {
          "output_type": "stream",
          "name": "stdout",
          "text": [
            "                         Nome    Tipo Pessoa       Município         Tipo  \\\n",
            "0              Caramuru Pie I  Pessoa Física       São Paulo  Recebimento   \n",
            "1               Libra Energia  Pessoa Física         Vitória  Recebimento   \n",
            "2               Libra Energia  Pessoa Física  Belo Horizonte  Recebimento   \n",
            "3                      Indaia  Pessoa Física  Rio De Janeiro  Recebimento   \n",
            "4               Tempo Energia  Pessoa Física       São Paulo    Pagamento   \n",
            "...                       ...            ...             ...          ...   \n",
            "2720  Ind Plasticas Conquista  Pessoa Física       São Paulo    Pagamento   \n",
            "2721      Pch Barra Das Aguas  Pessoa Física         Vitória    Pagamento   \n",
            "2722                    Renar  Pessoa Física  Belo Horizonte    Pagamento   \n",
            "2723                Viavarejo  Pessoa Física  Rio De Janeiro  Recebimento   \n",
            "2724                  Renault  Pessoa Física       São Paulo    Pagamento   \n",
            "\n",
            "     Valor Movimentado  \n",
            "0               R$ 676  \n",
            "1              R$ 5882  \n",
            "2              R$ 6584  \n",
            "3             R$ 12262  \n",
            "4             R$ -1584  \n",
            "...                ...  \n",
            "2720          R$ -2220  \n",
            "2721         R$ -10599  \n",
            "2722           R$ -152  \n",
            "2723         R$ 102786  \n",
            "2724          R$ -1544  \n",
            "\n",
            "[2693 rows x 5 columns]\n"
          ]
        }
      ]
    },
    {
      "cell_type": "markdown",
      "source": [
        "# **Carregando os dados**"
      ],
      "metadata": {
        "id": "CbjFZOsck5of"
      }
    },
    {
      "cell_type": "code",
      "source": [
        "atualizada = \"dados_atualizado\"\n"
      ],
      "metadata": {
        "id": "j5B7nb8KAcp_"
      },
      "execution_count": 31,
      "outputs": []
    },
    {
      "cell_type": "code",
      "source": [
        "limpeza.to_excel('dados_atualizado.xlsx', sheet_name=atualizada, index=False)"
      ],
      "metadata": {
        "id": "Q1DAgON5Al3G"
      },
      "execution_count": 32,
      "outputs": []
    },
    {
      "cell_type": "code",
      "source": [
        "from google.colab import files\n",
        "files.download('dados_atualizado.xlsx')"
      ],
      "metadata": {
        "colab": {
          "base_uri": "https://localhost:8080/",
          "height": 17
        },
        "id": "ffTJIC7K5vRi",
        "outputId": "6621e981-14af-4150-b6f1-14cf03fe8f90"
      },
      "execution_count": 33,
      "outputs": [
        {
          "output_type": "display_data",
          "data": {
            "text/plain": [
              "<IPython.core.display.Javascript object>"
            ],
            "application/javascript": [
              "\n",
              "    async function download(id, filename, size) {\n",
              "      if (!google.colab.kernel.accessAllowed) {\n",
              "        return;\n",
              "      }\n",
              "      const div = document.createElement('div');\n",
              "      const label = document.createElement('label');\n",
              "      label.textContent = `Downloading \"${filename}\": `;\n",
              "      div.appendChild(label);\n",
              "      const progress = document.createElement('progress');\n",
              "      progress.max = size;\n",
              "      div.appendChild(progress);\n",
              "      document.body.appendChild(div);\n",
              "\n",
              "      const buffers = [];\n",
              "      let downloaded = 0;\n",
              "\n",
              "      const channel = await google.colab.kernel.comms.open(id);\n",
              "      // Send a message to notify the kernel that we're ready.\n",
              "      channel.send({})\n",
              "\n",
              "      for await (const message of channel.messages) {\n",
              "        // Send a message to notify the kernel that we're ready.\n",
              "        channel.send({})\n",
              "        if (message.buffers) {\n",
              "          for (const buffer of message.buffers) {\n",
              "            buffers.push(buffer);\n",
              "            downloaded += buffer.byteLength;\n",
              "            progress.value = downloaded;\n",
              "          }\n",
              "        }\n",
              "      }\n",
              "      const blob = new Blob(buffers, {type: 'application/binary'});\n",
              "      const a = document.createElement('a');\n",
              "      a.href = window.URL.createObjectURL(blob);\n",
              "      a.download = filename;\n",
              "      div.appendChild(a);\n",
              "      a.click();\n",
              "      div.remove();\n",
              "    }\n",
              "  "
            ]
          },
          "metadata": {}
        },
        {
          "output_type": "display_data",
          "data": {
            "text/plain": [
              "<IPython.core.display.Javascript object>"
            ],
            "application/javascript": [
              "download(\"download_21155d05-8184-47d8-ab0b-13ae9b64bdd0\", \"dados_atualizado.xlsx\", 80896)"
            ]
          },
          "metadata": {}
        }
      ]
    }
  ]
}